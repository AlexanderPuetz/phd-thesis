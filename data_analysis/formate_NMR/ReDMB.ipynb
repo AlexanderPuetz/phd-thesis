{
 "cells": [
  {
   "cell_type": "code",
   "execution_count": 1,
   "metadata": {},
   "outputs": [],
   "source": [
    "import matplotlib.pyplot as plt\n",
    "from numpy import exp, loadtxt, pi, sqrt\n",
    "import math\n",
    "import numpy as np\n",
    "from pylab import rcParams\n",
    "import matplotlib\n",
    "from numpy import trapz\n",
    "import pandas as pd"
   ]
  },
  {
   "cell_type": "code",
   "execution_count": 2,
   "metadata": {},
   "outputs": [],
   "source": [
    "rcParams[\"figure.figsize\"]=10, 2.5\n",
    "matplotlib.rcParams[\"figure.facecolor\"] = \"0.9\"\n",
    "matplotlib.rcParams[\"figure.dpi\"] = 100\n",
    "matplotlib.rcParams[\"font.size\"] = 15"
   ]
  },
  {
   "cell_type": "code",
   "execution_count": 3,
   "metadata": {},
   "outputs": [],
   "source": [
    "NMR= pd.read_csv(\"./PUZ-477-ReDMB.csv\", header = None, skiprows = 0, sep = \"\\t\")"
   ]
  },
  {
   "cell_type": "code",
   "execution_count": 4,
   "metadata": {},
   "outputs": [
    {
     "name": "stdout",
     "output_type": "stream",
     "text": [
      "             CS  intensity   1\n",
      "0      -5.02151   1.265890 NaN\n",
      "1      -5.02113  -0.203042 NaN\n",
      "2      -5.02074  -1.448690 NaN\n",
      "3      -5.02036  -1.608600 NaN\n",
      "4      -5.01998  -0.522659 NaN\n",
      "...         ...        ...  ..\n",
      "52425  15.02000  -0.472108 NaN\n",
      "52426  15.02040  -0.052127 NaN\n",
      "52427  15.02080   0.386869 NaN\n",
      "52428  15.02120   0.297662 NaN\n",
      "52429  15.02160  -0.414307 NaN\n",
      "\n",
      "[52430 rows x 3 columns]\n"
     ]
    }
   ],
   "source": [
    "NMR.columns = [\"CS\", \"intensity\", \"1\"]\n",
    "print(NMR)"
   ]
  },
  {
   "cell_type": "code",
   "execution_count": 5,
   "metadata": {},
   "outputs": [
    {
     "name": "stdout",
     "output_type": "stream",
     "text": [
      "P1 = 27261\n",
      "P2 = 27392\n"
     ]
    }
   ],
   "source": [
    "#integeration minimum chemcial shift value of DCM\n",
    "P1 = [n for n, i in enumerate (NMR.CS) if i>5.4][0]\n",
    "print(\"P1 =\", P1)\n",
    "P2 = [n for n, i in enumerate (NMR.CS) if i>5.45][0]\n",
    "print(\"P2 =\", P2)"
   ]
  },
  {
   "cell_type": "code",
   "execution_count": 6,
   "metadata": {},
   "outputs": [],
   "source": [
    "Average_P1 = (NMR.intensity[P1-2]+NMR.intensity[P1-1]+NMR.intensity[P1]+NMR.intensity[P1+1]+NMR.intensity[P1+2])/5\n",
    "Average_P2 = (NMR.intensity[P2-2]+NMR.intensity[P2-1]+NMR.intensity[P2]+NMR.intensity[P2+1]+NMR.intensity[P2+2])/5\n",
    "Intensity_min_DCM = (Average_P1+Average_P2)/2\n",
    "NMR_intensity_corr_DCM = NMR.intensity-Intensity_min_DCM"
   ]
  },
  {
   "cell_type": "code",
   "execution_count": 7,
   "metadata": {},
   "outputs": [
    {
     "data": {
      "text/plain": [
       "<matplotlib.legend.Legend at 0x7fc3182b5e70>"
      ]
     },
     "execution_count": 7,
     "metadata": {},
     "output_type": "execute_result"
    },
    {
     "data": {
      "image/png": "[encoded data removed]",
      "text/plain": [
       "<Figure size 432x288 with 1 Axes>"
      ]
     },
     "metadata": {
      "needs_background": "light"
     },
     "output_type": "display_data"
    }
   ],
   "source": [
    "fig, ax = plt.subplots()\n",
    "ax.plot(NMR.CS, NMR_intensity_corr_DCM, \"r\", label='DCM')\n",
    "ax.set_xlim(5.7, 5.1)\n",
    "ax.set_ylim(-100, 2000)\n",
    "ax.set_xlabel('Chemical shift / ppm')\n",
    "ax.set_ylabel('Intensity / a.u.')\n",
    "ax.legend(loc='center left', bbox_to_anchor=(1, 0.5))"
   ]
  },
  {
   "cell_type": "code",
   "execution_count": 8,
   "metadata": {},
   "outputs": [
    {
     "name": "stdout",
     "output_type": "stream",
     "text": [
      "DCM peak area = 3268.323625\n"
     ]
    }
   ],
   "source": [
    "Peak_int_NMR_DCM = trapz (NMR_intensity_corr_DCM[P1:P2], dx = 1)\n",
    "print(\"DCM peak area =\", Peak_int_NMR_DCM)"
   ]
  },
  {
   "cell_type": "code",
   "execution_count": 18,
   "metadata": {},
   "outputs": [
    {
     "name": "stdout",
     "output_type": "stream",
     "text": [
      "P3 = 35161\n",
      "P4 = 35292\n"
     ]
    }
   ],
   "source": [
    "#integeration minimum chemcial shift value of formate\n",
    "P3 = [n for n, i in enumerate (NMR.CS) if i>8.42][0]\n",
    "print(\"P3 =\", P3)\n",
    "P4 = [n for n, i in enumerate (NMR.CS) if i>8.47][0]\n",
    "print(\"P4 =\", P4)"
   ]
  },
  {
   "cell_type": "code",
   "execution_count": 19,
   "metadata": {},
   "outputs": [],
   "source": [
    "Average_P3 = (NMR.intensity[P3-2]+NMR.intensity[P3-1]+NMR.intensity[P3]+NMR.intensity[P3+1]+NMR.intensity[P3+2])/5\n",
    "Average_P4 = (NMR.intensity[P4-2]+NMR.intensity[P4-1]+NMR.intensity[P4]+NMR.intensity[P4+1]+NMR.intensity[P4+2])/5\n",
    "Intensity_min_formate = (Average_P3+Average_P4)/2\n",
    "NMR_intensity_corr_formate = NMR.intensity-Intensity_min_formate"
   ]
  },
  {
   "cell_type": "code",
   "execution_count": 20,
   "metadata": {},
   "outputs": [
    {
     "data": {
      "text/plain": [
       "<matplotlib.legend.Legend at 0x7fc31603e5c0>"
      ]
     },
     "execution_count": 20,
     "metadata": {},
     "output_type": "execute_result"
    },
    {
     "data": {
      "image/png": "[encoded data removed]",
      "text/plain": [
       "<Figure size 432x288 with 1 Axes>"
      ]
     },
     "metadata": {
      "needs_background": "light"
     },
     "output_type": "display_data"
    }
   ],
   "source": [
    "fig, ax = plt.subplots()\n",
    "ax.plot(NMR.CS, NMR_intensity_corr_formate, \"r\", label='Formate')\n",
    "ax.set_xlim(8.0, 8.6)\n",
    "ax.set_ylim(-100, 3000)\n",
    "ax.set_xlabel('Chemical shift / ppm')\n",
    "ax.set_ylabel('Intensity / a.u.')\n",
    "ax.legend(loc='center left', bbox_to_anchor=(1, 0.5))"
   ]
  },
  {
   "cell_type": "code",
   "execution_count": 21,
   "metadata": {},
   "outputs": [
    {
     "name": "stdout",
     "output_type": "stream",
     "text": [
      "Formate peak area = 555.46410585\n"
     ]
    }
   ],
   "source": [
    "Peak_int_NMR_formate = trapz (NMR_intensity_corr_formate[P3:P4], dx = 1)\n",
    "print(\"Formate peak area =\", Peak_int_NMR_formate)"
   ]
  },
  {
   "cell_type": "code",
   "execution_count": 22,
   "metadata": {},
   "outputs": [
    {
     "name": "stdout",
     "output_type": "stream",
     "text": [
      "Formate/DCM = 0.1699538263595301\n"
     ]
    }
   ],
   "source": [
    "Ratio = Peak_int_NMR_formate/Peak_int_NMR_DCM\n",
    "print(\"Formate/DCM =\", Ratio)"
   ]
  },
  {
   "cell_type": "code",
   "execution_count": 23,
   "metadata": {},
   "outputs": [],
   "source": [
    "Peak_int_sum = []\n",
    "Peak_int_sum.append(Peak_int_NMR_formate)\n",
    "Peak_int_sum.append(Peak_int_NMR_DCM)\n",
    "Peak_int_sum.append(Ratio)"
   ]
  },
  {
   "cell_type": "code",
   "execution_count": 24,
   "metadata": {},
   "outputs": [],
   "source": [
    "name = [\"formate peak area\", \"DCM peak area\", \"formate/DCM ratio\"]"
   ]
  },
  {
   "cell_type": "code",
   "execution_count": 25,
   "metadata": {},
   "outputs": [],
   "source": [
    "output_data = pd.DataFrame({\"name\":name, \"peak_area\":Peak_int_sum})"
   ]
  },
  {
   "cell_type": "code",
   "execution_count": 26,
   "metadata": {},
   "outputs": [
    {
     "data": {
      "text/html": [
       "<div>\n",
       "<style scoped>\n",
       "    .dataframe tbody tr th:only-of-type {\n",
       "        vertical-align: middle;\n",
       "    }\n",
       "\n",
       "    .dataframe tbody tr th {\n",
       "        vertical-align: top;\n",
       "    }\n",
       "\n",
       "    .dataframe thead th {\n",
       "        text-align: right;\n",
       "    }\n",
       "</style>\n",
       "<table border=\"1\" class=\"dataframe\">\n",
       "  <thead>\n",
       "    <tr style=\"text-align: right;\">\n",
       "      <th></th>\n",
       "      <th>name</th>\n",
       "      <th>peak_area</th>\n",
       "    </tr>\n",
       "  </thead>\n",
       "  <tbody>\n",
       "    <tr>\n",
       "      <th>0</th>\n",
       "      <td>formate peak area</td>\n",
       "      <td>555.464106</td>\n",
       "    </tr>\n",
       "    <tr>\n",
       "      <th>1</th>\n",
       "      <td>DCM peak area</td>\n",
       "      <td>3268.323625</td>\n",
       "    </tr>\n",
       "    <tr>\n",
       "      <th>2</th>\n",
       "      <td>formate/DCM ratio</td>\n",
       "      <td>0.169954</td>\n",
       "    </tr>\n",
       "  </tbody>\n",
       "</table>\n",
       "</div>"
      ],
      "text/plain": [
       "                name    peak_area\n",
       "0  formate peak area   555.464106\n",
       "1      DCM peak area  3268.323625\n",
       "2  formate/DCM ratio     0.169954"
      ]
     },
     "execution_count": 26,
     "metadata": {},
     "output_type": "execute_result"
    }
   ],
   "source": [
    "output_data"
   ]
  },
  {
   "cell_type": "code",
   "execution_count": null,
   "metadata": {},
   "outputs": [],
   "source": []
  }
 ],
 "metadata": {
  "kernelspec": {
   "display_name": "Python 3 (ipykernel)",
   "language": "python",
   "name": "python3"
  },
  "language_info": {
   "codemirror_mode": {
    "name": "ipython",
    "version": 3
   },
   "file_extension": ".py",
   "mimetype": "text/x-python",
   "name": "python",
   "nbconvert_exporter": "python",
   "pygments_lexer": "ipython3",
   "version": "3.10.6"
  }
 },
 "nbformat": 4,
 "nbformat_minor": 4
}
