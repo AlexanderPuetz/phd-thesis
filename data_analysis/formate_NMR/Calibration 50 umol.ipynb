{
 "cells": [
  {
   "cell_type": "code",
   "execution_count": 1,
   "metadata": {},
   "outputs": [],
   "source": [
    "import matplotlib.pyplot as plt\n",
    "from numpy import exp, loadtxt, pi, sqrt\n",
    "import math\n",
    "import numpy as np\n",
    "from pylab import rcParams\n",
    "import matplotlib\n",
    "from numpy import trapz\n",
    "import pandas as pd"
   ]
  },
  {
   "cell_type": "code",
   "execution_count": 2,
   "metadata": {},
   "outputs": [],
   "source": [
    "rcParams[\"figure.figsize\"]=10, 2.5\n",
    "matplotlib.rcParams[\"figure.facecolor\"] = \"0.9\"\n",
    "matplotlib.rcParams[\"figure.dpi\"] = 100\n",
    "matplotlib.rcParams[\"font.size\"] = 15"
   ]
  },
  {
   "cell_type": "code",
   "execution_count": 3,
   "metadata": {},
   "outputs": [],
   "source": [
    "NMR= pd.read_csv(\"./Calibration 50umol.csv\", header = None, skiprows = 0, sep = \"\\t\")"
   ]
  },
  {
   "cell_type": "code",
   "execution_count": 4,
   "metadata": {},
   "outputs": [
    {
     "name": "stdout",
     "output_type": "stream",
     "text": [
      "             CS  intensity   1\n",
      "0      -5.01651   0.116883 NaN\n",
      "1      -5.01613   0.599831 NaN\n",
      "2      -5.01574  -0.527815 NaN\n",
      "3      -5.01536  -1.797270 NaN\n",
      "4      -5.01498  -1.386840 NaN\n",
      "...         ...        ...  ..\n",
      "52412  15.02010   3.636180 NaN\n",
      "52413  15.02040   3.950710 NaN\n",
      "52414  15.02080   4.881040 NaN\n",
      "52415  15.02120   5.702090 NaN\n",
      "52416  15.02160   4.745260 NaN\n",
      "\n",
      "[52417 rows x 3 columns]\n"
     ]
    }
   ],
   "source": [
    "NMR.columns = [\"CS\", \"intensity\", \"1\"]\n",
    "print(NMR)"
   ]
  },
  {
   "cell_type": "code",
   "execution_count": 8,
   "metadata": {},
   "outputs": [
    {
     "name": "stdout",
     "output_type": "stream",
     "text": [
      "P1 = 27248\n",
      "P2 = 27379\n"
     ]
    }
   ],
   "source": [
    "#integeration minimum chemcial shift value of DCM\n",
    "P1 = [n for n, i in enumerate (NMR.CS) if i>5.4][0]\n",
    "print(\"P1 =\", P1)\n",
    "P2 = [n for n, i in enumerate (NMR.CS) if i>5.45][0]\n",
    "print(\"P2 =\", P2)"
   ]
  },
  {
   "cell_type": "code",
   "execution_count": 9,
   "metadata": {},
   "outputs": [],
   "source": [
    "Average_P1 = (NMR.intensity[P1-2]+NMR.intensity[P1-1]+NMR.intensity[P1]+NMR.intensity[P1+1]+NMR.intensity[P1+2])/5\n",
    "Average_P2 = (NMR.intensity[P2-2]+NMR.intensity[P2-1]+NMR.intensity[P2]+NMR.intensity[P2+1]+NMR.intensity[P2+2])/5\n",
    "Intensity_min_DCM = (Average_P1+Average_P2)/2\n",
    "NMR_intensity_corr_DCM = NMR.intensity-Intensity_min_DCM"
   ]
  },
  {
   "cell_type": "code",
   "execution_count": 10,
   "metadata": {},
   "outputs": [
    {
     "data": {
      "text/plain": [
       "<matplotlib.legend.Legend at 0x7f9c3eb1e560>"
      ]
     },
     "execution_count": 10,
     "metadata": {},
     "output_type": "execute_result"
    },
    {
     "data": {
      "image/png": "[encoded data removed]",
      "text/plain": [
       "<Figure size 432x288 with 1 Axes>"
      ]
     },
     "metadata": {
      "needs_background": "light"
     },
     "output_type": "display_data"
    }
   ],
   "source": [
    "fig, ax = plt.subplots()\n",
    "ax.plot(NMR.CS, NMR_intensity_corr_DCM, \"r\", label='DCM')\n",
    "ax.set_xlim(5.7, 5.1)\n",
    "ax.set_ylim(-100, 2000)\n",
    "ax.set_xlabel('Chemical shift / ppm')\n",
    "ax.set_ylabel('Intensity / a.u.')\n",
    "ax.legend(loc='center left', bbox_to_anchor=(1, 0.5))"
   ]
  },
  {
   "cell_type": "code",
   "execution_count": 11,
   "metadata": {},
   "outputs": [
    {
     "name": "stdout",
     "output_type": "stream",
     "text": [
      "DCM peak area = 3476.82215089\n"
     ]
    }
   ],
   "source": [
    "Peak_int_NMR_DCM = trapz (NMR_intensity_corr_DCM[P1:P2], dx = 1)\n",
    "print(\"DCM peak area =\", Peak_int_NMR_DCM)"
   ]
  },
  {
   "cell_type": "code",
   "execution_count": 12,
   "metadata": {},
   "outputs": [
    {
     "name": "stdout",
     "output_type": "stream",
     "text": [
      "P3 = 34965\n",
      "P4 = 35226\n"
     ]
    }
   ],
   "source": [
    "#integeration minimum chemcial shift value of formate\n",
    "P3 = [n for n, i in enumerate (NMR.CS) if i>8.35][0]\n",
    "print(\"P3 =\", P3)\n",
    "P4 = [n for n, i in enumerate (NMR.CS) if i>8.45][0]\n",
    "print(\"P4 =\", P4)"
   ]
  },
  {
   "cell_type": "code",
   "execution_count": 13,
   "metadata": {},
   "outputs": [],
   "source": [
    "Average_P3 = (NMR.intensity[P3-2]+NMR.intensity[P3-1]+NMR.intensity[P3]+NMR.intensity[P3+1]+NMR.intensity[P3+2])/5\n",
    "Average_P4 = (NMR.intensity[P4-2]+NMR.intensity[P4-1]+NMR.intensity[P4]+NMR.intensity[P4+1]+NMR.intensity[P4+2])/5\n",
    "Intensity_min_formate = (Average_P3+Average_P4)/2\n",
    "NMR_intensity_corr_formate = NMR.intensity-Intensity_min_formate"
   ]
  },
  {
   "cell_type": "code",
   "execution_count": 14,
   "metadata": {},
   "outputs": [
    {
     "data": {
      "text/plain": [
       "<matplotlib.legend.Legend at 0x7f9c3c97dde0>"
      ]
     },
     "execution_count": 14,
     "metadata": {},
     "output_type": "execute_result"
    },
    {
     "data": {
      "image/png": "[encoded data removed]",
      "text/plain": [
       "<Figure size 432x288 with 1 Axes>"
      ]
     },
     "metadata": {
      "needs_background": "light"
     },
     "output_type": "display_data"
    }
   ],
   "source": [
    "fig, ax = plt.subplots()\n",
    "ax.plot(NMR.CS, NMR_intensity_corr_formate, \"r\", label='Formate')\n",
    "ax.set_xlim(8.0, 8.6)\n",
    "ax.set_ylim(-100, 3000)\n",
    "ax.set_xlabel('Chemical shift / ppm')\n",
    "ax.set_ylabel('Intensity / a.u.')\n",
    "ax.legend(loc='center left', bbox_to_anchor=(1, 0.5))"
   ]
  },
  {
   "cell_type": "code",
   "execution_count": 15,
   "metadata": {},
   "outputs": [
    {
     "name": "stdout",
     "output_type": "stream",
     "text": [
      "Formate peak area = 32483.0262009\n"
     ]
    }
   ],
   "source": [
    "Peak_int_NMR_formate = trapz (NMR_intensity_corr_formate[P3:P4], dx = 1)\n",
    "print(\"Formate peak area =\", Peak_int_NMR_formate)"
   ]
  },
  {
   "cell_type": "code",
   "execution_count": 16,
   "metadata": {},
   "outputs": [
    {
     "name": "stdout",
     "output_type": "stream",
     "text": [
      "Formate/DCM = 9.34273448315007\n"
     ]
    }
   ],
   "source": [
    "Ratio = Peak_int_NMR_formate/Peak_int_NMR_DCM\n",
    "print(\"Formate/DCM =\", Ratio)"
   ]
  },
  {
   "cell_type": "code",
   "execution_count": 17,
   "metadata": {},
   "outputs": [],
   "source": [
    "Peak_int_sum = []\n",
    "Peak_int_sum.append(Peak_int_NMR_formate)\n",
    "Peak_int_sum.append(Peak_int_NMR_DCM)\n",
    "Peak_int_sum.append(Ratio)"
   ]
  },
  {
   "cell_type": "code",
   "execution_count": 18,
   "metadata": {},
   "outputs": [],
   "source": [
    "name = [\"formate peak area\", \"DCM peak area\", \"formate/DCM ratio\"]"
   ]
  },
  {
   "cell_type": "code",
   "execution_count": 19,
   "metadata": {},
   "outputs": [],
   "source": [
    "output_data = pd.DataFrame({\"name\":name, \"peak_area\":Peak_int_sum})"
   ]
  },
  {
   "cell_type": "code",
   "execution_count": 20,
   "metadata": {},
   "outputs": [
    {
     "data": {
      "text/html": [
       "<div>\n",
       "<style scoped>\n",
       "    .dataframe tbody tr th:only-of-type {\n",
       "        vertical-align: middle;\n",
       "    }\n",
       "\n",
       "    .dataframe tbody tr th {\n",
       "        vertical-align: top;\n",
       "    }\n",
       "\n",
       "    .dataframe thead th {\n",
       "        text-align: right;\n",
       "    }\n",
       "</style>\n",
       "<table border=\"1\" class=\"dataframe\">\n",
       "  <thead>\n",
       "    <tr style=\"text-align: right;\">\n",
       "      <th></th>\n",
       "      <th>name</th>\n",
       "      <th>peak_area</th>\n",
       "    </tr>\n",
       "  </thead>\n",
       "  <tbody>\n",
       "    <tr>\n",
       "      <th>0</th>\n",
       "      <td>formate peak area</td>\n",
       "      <td>32483.026201</td>\n",
       "    </tr>\n",
       "    <tr>\n",
       "      <th>1</th>\n",
       "      <td>DCM peak area</td>\n",
       "      <td>3476.822151</td>\n",
       "    </tr>\n",
       "    <tr>\n",
       "      <th>2</th>\n",
       "      <td>formate/DCM ratio</td>\n",
       "      <td>9.342734</td>\n",
       "    </tr>\n",
       "  </tbody>\n",
       "</table>\n",
       "</div>"
      ],
      "text/plain": [
       "                name     peak_area\n",
       "0  formate peak area  32483.026201\n",
       "1      DCM peak area   3476.822151\n",
       "2  formate/DCM ratio      9.342734"
      ]
     },
     "execution_count": 20,
     "metadata": {},
     "output_type": "execute_result"
    }
   ],
   "source": [
    "output_data"
   ]
  },
  {
   "cell_type": "code",
   "execution_count": null,
   "metadata": {},
   "outputs": [],
   "source": []
  }
 ],
 "metadata": {
  "kernelspec": {
   "display_name": "Python 3 (ipykernel)",
   "language": "python",
   "name": "python3"
  },
  "language_info": {
   "codemirror_mode": {
    "name": "ipython",
    "version": 3
   },
   "file_extension": ".py",
   "mimetype": "text/x-python",
   "name": "python",
   "nbconvert_exporter": "python",
   "pygments_lexer": "ipython3",
   "version": "3.10.6"
  }
 },
 "nbformat": 4,
 "nbformat_minor": 4
}
