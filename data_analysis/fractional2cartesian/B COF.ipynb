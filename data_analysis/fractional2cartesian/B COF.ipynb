{
 "cells": [
  {
   "cell_type": "code",
   "execution_count": 8,
   "id": "ae8a2ee1-a258-491f-a0a5-96c441b328c5",
   "metadata": {},
   "outputs": [
    {
     "name": "stdout",
     "output_type": "stream",
     "text": [
      "Carthesian coordinates of [0 0 1] are [0.82246359 1.10621337 3.57119442]\n",
      "Carthesian coordinates of [1 1 0] are [21.6985     37.58290445  0.        ]\n"
     ]
    }
   ],
   "source": [
    "# Gratefully borrowed from https://chemistry.stackexchange.com/questions/136836/converting-fractional-coordinates-into-cartesian-coordinates-for-crystallography\n",
    "# Further theory can be found here: https://www.ruppweb.org/Xray/tutorial/Coordinate%20system%20transformation.htm\n",
    "import numpy as np\n",
    "\n",
    "# unit cell parameters of B COF by Pawley refinement\n",
    "a = 43.397\n",
    "b = 43.397\n",
    "c = 3.828\n",
    "alpha = 81.788*np.pi/180 # convert to radians\n",
    "beta  = 77.593*np.pi/180\n",
    "gamma  = 120.000*np.pi/180\n",
    "\n",
    "# fractional coordinates as fraction of a, b, c\n",
    "fractional001 = np.array( [0 , 0, 1] )\n",
    "fractional100 = np.array( [1 , 1, 0] )\n",
    "\n",
    "# orthogonalization matrix M, with n2\n",
    "n2 = (np.cos(alpha)-np.cos(gamma)*np.cos(beta))/np.sin(gamma)\n",
    "M  = np.array([[a,0,0],[b*np.cos(gamma),b*np.sin(gamma),0], \n",
    "     [c*np.cos(beta),c*n2,c*np.sqrt(np.sin(beta)**2-n2**2)]])\n",
    "\n",
    "# matrix multiplication\n",
    "cartesian001 = fractional001 @ M\n",
    "cartesian100 = fractional100 @ M\n",
    "\n",
    "# output\n",
    "print(\"Carthesian coordinates of \"+str(fractional001)+\" are \"+str(cartesian001))\n",
    "print(\"Carthesian coordinates of \"+str(fractional100)+\" are \"+str(cartesian100))"
   ]
  },
  {
   "cell_type": "code",
   "execution_count": null,
   "id": "30ea7905-d697-41a7-831d-9c01437df215",
   "metadata": {},
   "outputs": [],
   "source": []
  }
 ],
 "metadata": {
  "kernelspec": {
   "display_name": "Python 3 (ipykernel)",
   "language": "python",
   "name": "python3"
  },
  "language_info": {
   "codemirror_mode": {
    "name": "ipython",
    "version": 3
   },
   "file_extension": ".py",
   "mimetype": "text/x-python",
   "name": "python",
   "nbconvert_exporter": "python",
   "pygments_lexer": "ipython3",
   "version": "3.10.6"
  }
 },
 "nbformat": 4,
 "nbformat_minor": 5
}
