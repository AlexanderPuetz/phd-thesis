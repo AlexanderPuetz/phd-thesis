{
 "cells": [
  {
   "cell_type": "code",
   "execution_count": 1,
   "id": "ae8a2ee1-a258-491f-a0a5-96c441b328c5",
   "metadata": {},
   "outputs": [
    {
     "name": "stdout",
     "output_type": "stream",
     "text": [
      "Carthesian coordinates of [0 0 1] are [-1.12515210e+00  3.04701437e-16  3.68296535e+00]\n",
      "Carthesian coordinates of [1 1 0] are [38.955 40.429  0.   ]\n"
     ]
    }
   ],
   "source": [
    "# Gratefully borrowed from https://chemistry.stackexchange.com/questions/136836/converting-fractional-coordinates-into-cartesian-coordinates-for-crystallography\n",
    "# Further theory can be found here: https://www.ruppweb.org/Xray/tutorial/Coordinate%20system%20transformation.htm\n",
    "import numpy as np\n",
    "\n",
    "# unit cell parameters of P COF by Rietveld refinement\n",
    "a = 38.955\n",
    "b = 40.429\n",
    "c = 3.851\n",
    "alpha = 90.000*np.pi/180 # convert to radians\n",
    "beta  = 106.988*np.pi/180\n",
    "gamma  = 90.000*np.pi/180\n",
    "\n",
    "# fractional coordinates as fraction of a, b, c\n",
    "fractional001 = np.array( [0 , 0, 1] )\n",
    "fractional110 = np.array( [1 , 1, 0] )\n",
    "\n",
    "# orthogonalization matrix M, with n2\n",
    "n2 = (np.cos(alpha)-np.cos(gamma)*np.cos(beta))/np.sin(gamma)\n",
    "M  = np.array([[a,0,0],[b*np.cos(gamma),b*np.sin(gamma),0], \n",
    "     [c*np.cos(beta),c*n2,c*np.sqrt(np.sin(beta)**2-n2**2)]])\n",
    "\n",
    "# matrix multiplication\n",
    "cartesian001 = fractional001 @ M\n",
    "cartesian110 = fractional110 @ M\n",
    "\n",
    "# output\n",
    "print(\"Carthesian coordinates of \"+str(fractional001)+\" are \"+str(cartesian001))\n",
    "print(\"Carthesian coordinates of \"+str(fractional110)+\" are \"+str(cartesian110))"
   ]
  },
  {
   "cell_type": "code",
   "execution_count": null,
   "id": "30ea7905-d697-41a7-831d-9c01437df215",
   "metadata": {},
   "outputs": [],
   "source": []
  }
 ],
 "metadata": {
  "kernelspec": {
   "display_name": "Python 3 (ipykernel)",
   "language": "python",
   "name": "python3"
  },
  "language_info": {
   "codemirror_mode": {
    "name": "ipython",
    "version": 3
   },
   "file_extension": ".py",
   "mimetype": "text/x-python",
   "name": "python",
   "nbconvert_exporter": "python",
   "pygments_lexer": "ipython3",
   "version": "3.10.6"
  }
 },
 "nbformat": 4,
 "nbformat_minor": 5
}
